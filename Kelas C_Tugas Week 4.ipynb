{
 "cells": [
  {
   "cell_type": "code",
   "execution_count": 1,
   "metadata": {},
   "outputs": [
    {
     "name": "stdout",
     "output_type": "stream",
     "text": [
      "mahardika\n",
      "I0322073\n",
      "C\n"
     ]
    }
   ],
   "source": [
    "print(input(\"Nama: \"))\n",
    "print(input(\"NIM: \"))\n",
    "print(input(\"Kelas: \"))"
   ]
  },
  {
   "attachments": {},
   "cell_type": "markdown",
   "metadata": {},
   "source": [
    "## 1."
   ]
  },
  {
   "attachments": {},
   "cell_type": "markdown",
   "metadata": {},
   "source": [
    "Buatlah program yang menampilkan tarif pajak yang harus dibayarkan oleh user dengan input yaitu nama user dan pendapatan dari user.<br>\n",
    "Dengan ketentuan sebagai berikut:\n",
    "* Jika pendapatan kurang dari atau sama dengan 10 juta, maka tarif pajak adalah 2,5%\n",
    "* Jika pendapatan kurang dari atau sama dengan 20 juta, maka tarif pajak adalah 5%\n",
    "* Jika pendapatan kurang dari atau sama dengan 50 juta, maka tarif pajak adalah 10%.\n",
    "* Jika pendapatan lebih dari 50 juta, maka tarif pajak adalah 12,5%.\n",
    "> *note: Kerjakan soal ini dengan percabangan*"
   ]
  },
  {
   "cell_type": "code",
   "execution_count": 2,
   "metadata": {},
   "outputs": [
    {
     "name": "stdout",
     "output_type": "stream",
     "text": [
      "pajak pendapatan yang harus anda bayarkan\n",
      "-Jika pendapatan ≤ 10 Juta, maka tarif pajak sebesar 2,5%\n",
      "-Jika pendapatan ≤ 20 Juta, maka tarif pajak sebesar 5%\n",
      "-Jika pendapatan ≤ 50 Juta, maka tarif pajak sebesar 10% \n",
      "-Jika Pendapatan > 50 Juta, maka tarif pajak sebesar 12,5%\n",
      "-----------------------------------\n",
      "Nama : mahardika\n",
      "Pendapatan kerja 1500000\n",
      "Pajak yang harus anda bayarkan sebesar Rp. 37500.0\n"
     ]
    }
   ],
   "source": [
    "# Kerjakan soal no 1 di sini\n",
    "nama=str(input(\"Masukkan nama anda:\"))\n",
    "pendapatan=int(input(\"Masukkan pendapatan anda:\"))\n",
    "\n",
    "print(\"pajak pendapatan yang harus anda bayarkan\\n-Jika pendapatan ≤ 10 Juta, maka tarif pajak sebesar 2,5%\\n-Jika pendapatan ≤ 20 Juta, maka tarif pajak sebesar 5%\\n-Jika pendapatan ≤ 50 Juta, maka tarif pajak sebesar 10% \\n-Jika Pendapatan > 50 Juta, maka tarif pajak sebesar 12,5%\")\n",
    "print(\"-----------------------------------\")\n",
    "print(\"Nama :\", nama)\n",
    "print(\"Pendapatan kerja\", pendapatan)\n",
    "if pendapatan<=10000000:\n",
    "    tax=pendapatan*0.025\n",
    "    print(\"Pajak yang harus anda bayarkan sebesar Rp.\",tax)\n",
    "elif pendapatan<=20000000:\n",
    "    tax=pendapatan*0.05\n",
    "    print(\"Pajak yang harus anda bayarkan sebesar Rp.\",tax)\n",
    "elif pendapatan<=50000000:\n",
    "    tax=pendapatan*0.1\n",
    "    print(\"Pajak yang harus anda bayarkan sebesar Rp.\",tax)\n",
    "else:\n",
    "    tax=pendapatan*0.125\n",
    "    print(\"Pajak yang harus anda bayarkan sebesar Rp.\",tax)"
   ]
  },
  {
   "attachments": {},
   "cell_type": "markdown",
   "metadata": {},
   "source": [
    "## 2."
   ]
  },
  {
   "attachments": {},
   "cell_type": "markdown",
   "metadata": {},
   "source": [
    "Buatlah program yang menampilkan akan melakukan validasi apakah mahasiswa tersebut berasal dari TI UNS berdasarkan NIM yang diinput oleh user:\n",
    "<br>Dengan ketentuan sebagai berikut:\n",
    "* NIM mahasiswa TI harus dimulai dengan \"I03\" dengan total panjang 8 karakter (I0320078 adalah contoh NIM mahasiswa TI UNS)\n",
    "* Program akan menampilkan pesan \"NIM mahasiswa TI UNS\" jika NIM yang dimasukkan sesuai dengan format yang dijelaskan di atas, dan akan menampilkan pesan \"NIM Anda tidak valid\" jika tidak sesuai.\n",
    "> *note: Kerjakan soal ini dengan percabangan*"
   ]
  },
  {
   "cell_type": "code",
   "execution_count": 3,
   "metadata": {},
   "outputs": [
    {
     "name": "stdout",
     "output_type": "stream",
     "text": [
      "mahardika\n",
      "NIM I0322073 Sesuai dengan mahasiswa TI UNS\n"
     ]
    }
   ],
   "source": [
    "# Kerjakan soal no 2 di sini\n",
    "nama=print(input(\"Masukkan nama anda:\"))\n",
    "nim=input(\"Masukkan NIM anda:\")\n",
    "if nim.startswith(\"I03\") and len(nim)==8:\n",
    "    print(\"NIM\",nim,\"Sesuai dengan mahasiswa TI UNS\")\n",
    "else:\n",
    "    print(\"NIM anda tidak valid\")"
   ]
  }
 ],
 "metadata": {
  "kernelspec": {
   "display_name": "Python 3",
   "language": "python",
   "name": "python3"
  },
  "language_info": {
   "codemirror_mode": {
    "name": "ipython",
    "version": 3
   },
   "file_extension": ".py",
   "mimetype": "text/x-python",
   "name": "python",
   "nbconvert_exporter": "python",
   "pygments_lexer": "ipython3",
   "version": "3.11.2"
  },
  "orig_nbformat": 4
 },
 "nbformat": 4,
 "nbformat_minor": 2
}
